


import os
from dotenv import load_dotenv

# Load Environment-Varibales.
load_dotenv()
os.environ['GROQ_API_KEY'] = os.getenv('GROQ_API_KEY')


# Load Text-file.
from langchain_community.document_loaders import TextLoader
# langchain_community.document_loaders has various methods to read data from different data-sources.
loader = TextLoader('speech.txt') # Create Instance.
text_doc = loader.load() # Load-Data.
text_doc


# Load Web-page content.
from langchain_community.document_loaders import WebBaseLoader
import bs4 # Beautiful-soup4

# Load, chunk and index the content of HTML-page.
loader = WebBaseLoader(web_paths = ('https://lilianweng.github.io/posts/2023-06-23-agent/', ),
                       bs_kwargs = dict(parse_only = bs4.SoupStrainer(class_ = ('post-title', 'post-content', 'post-header') ))) # read only contents of tags whose class-names are mentioned.
web_cont = loader.load()


web_cont


# Load PDF
from langchain_community.document_loaders import PyPDFLoader
loader = PyPDFLoader('attention.pdf')
pdf_content = loader.load()


pdf_content





from langchain.text_splitter import RecursiveCharacterTextSplitter
text_splitter = RecursiveCharacterTextSplitter(chunk_size = 1000, chunk_overlap = 200)
data = text_splitter.split_documents(pdf_content)


data





## Vector Embedding And Vector Store
from langchain_openai import OpenAIEmbeddings
from langchain_community.vectorstores import Chroma
db = Chroma.from_documents(data,OpenAIEmbeddings())


# Query From db
query = "Who are the authors of attention is all you need?"
db.similarity_search(query)
