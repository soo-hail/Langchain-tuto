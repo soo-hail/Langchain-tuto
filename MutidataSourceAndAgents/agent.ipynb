{
 "cells": [
  {
   "cell_type": "code",
   "execution_count": null,
   "id": "38d3ce5a-7366-433e-b2c9-f1b602bb7138",
   "metadata": {
    "scrolled": true
   },
   "outputs": [],
   "source": [
    "# Tools in Langchian allow to LLMs to interact with external data-sources(websites, databases, pdfs). \n",
    "# NOTE\n",
    "'''\n",
    "    Instead of writing a custom script to scrape a website and preprocess the data, you can let the LLM decide when to scrape and use the data in real time.\n",
    "    Tools empower agents to dynamically choose which action to take based on input context.\n",
    "    SUMMARY: \n",
    "    Tools are designed to load or fetch only the data that is required, rather than scraping or quering large datasets.\n",
    "'''\n"
   ]
  },
  {
   "cell_type": "code",
   "execution_count": 2,
   "id": "db04e8c5-ef61-49b8-a6e7-542f7b842d97",
   "metadata": {},
   "outputs": [],
   "source": [
    "# Tools to search and retrive information from Wikipedia.\n",
    "from langchain_community.utilities import WikipediaAPIWrapper # helper tool to talk to Wikipedia(pull specific content to directly to the the app.)\n",
    "from langchain_community.tools import WikipediaQueryRun # takes query and ank Wikipedia for the answer(it uses WikipediaAPIWrapper to find the information)."
   ]
  },
  {
   "cell_type": "code",
   "execution_count": 11,
   "id": "aeffa0df-32b4-4046-99f1-7dbeff862a0b",
   "metadata": {},
   "outputs": [],
   "source": [
    "# Create tool to search from Wikipedia.\n",
    "wiki_api_wrapper = WikipediaAPIWrapper(top_k_results = 1,doc_content_chars_max = 200) # Configurations to talk with Wikipedia.\n",
    "wiki_tool = WikipediaQueryRun(api_wrapper=wiki_api_wrapper)"
   ]
  },
  {
   "cell_type": "code",
   "execution_count": 12,
   "id": "cb485bc2-c83c-4a82-8085-5677c9a2d9b8",
   "metadata": {},
   "outputs": [
    {
     "data": {
      "text/plain": [
       "'wikipedia'"
      ]
     },
     "execution_count": 12,
     "metadata": {},
     "output_type": "execute_result"
    }
   ],
   "source": [
    "wiki_tool.name"
   ]
  },
  {
   "cell_type": "code",
   "execution_count": 9,
   "id": "64d0450b-c7d6-4438-978b-082081b63112",
   "metadata": {},
   "outputs": [],
   "source": [
    "# Website as external-data-source - own custom data.\n",
    "from langchain_community.document_loaders import WebBaseLoader # Scrap web-page\n",
    "from langchain_text_splitters import RecursiveCharacterTextSplitter # Tokenization\n",
    "from langchain_community.embeddings import OllamaEmbeddings # Embedding\n",
    "from langchain_community.vectorstores import FAISS # Vector db(store)\n",
    "\n",
    "# Load\n",
    "loader = WebBaseLoader(\"https://docs.smith.langchain.com/\")\n",
    "web_data = loader.load()\n",
    "# Transfrom(Tokenization).\n",
    "web_data = RecursiveCharacterTextSplitter(chunk_size=1000,chunk_overlap=200).split_documents(web_data)\n",
    "db = FAISS.from_documents(web_data, OllamaEmbeddings(model=\"mxbai-embed-large\"))\n",
    "# Create Retriever.\n",
    "retriever = db.as_retriever()"
   ]
  },
  {
   "cell_type": "code",
   "execution_count": 10,
   "id": "b2cb7088-cab2-462b-b6c9-ef5c8f940dc1",
   "metadata": {},
   "outputs": [
    {
     "data": {
      "text/plain": [
       "VectorStoreRetriever(tags=['FAISS', 'OllamaEmbeddings'], vectorstore=<langchain_community.vectorstores.faiss.FAISS object at 0x000001E019ECBC80>, search_kwargs={})"
      ]
     },
     "execution_count": 10,
     "metadata": {},
     "output_type": "execute_result"
    }
   ],
   "source": [
    "retriever"
   ]
  },
  {
   "cell_type": "code",
   "execution_count": 13,
   "id": "702d256f-3b16-4de6-81a9-49fbe5f26dbf",
   "metadata": {},
   "outputs": [],
   "source": [
    "# Create a tool to do retrival of documents - helps to find right information from collection of data.\n",
    "from langchain.tools.retriever import create_retriever_tool\n",
    "# Tool is used to search for langsmith-related information.\n",
    "web_custom_tool = create_retriever_tool(\n",
    "    retriever,\n",
    "    \"langsmith_search\",\n",
    "    \"Search for information about LangSmith. For any questions about LangSmith, you must use this tool!\"\n",
    ")\n"
   ]
  },
  {
   "cell_type": "code",
   "execution_count": 14,
   "id": "271b2443-5575-4e5a-9632-f03129a691c2",
   "metadata": {},
   "outputs": [
    {
     "data": {
      "text/plain": [
       "'langsmith_search'"
      ]
     },
     "execution_count": 14,
     "metadata": {},
     "output_type": "execute_result"
    }
   ],
   "source": [
    "web_custom_tool.name"
   ]
  },
  {
   "cell_type": "code",
   "execution_count": 15,
   "id": "ea6be40e-b029-4851-bc8f-02309c2b8993",
   "metadata": {},
   "outputs": [],
   "source": [
    "# Arxiv-tool, to fetch or load data from Arxiv.\n",
    "from langchain_community.utilities import ArxivAPIWrapper\n",
    "from langchain_community.tools import ArxivQueryRun\n",
    "\n",
    "arxiv_wrapper = ArxivAPIWrapper(top_k_results = 1, doc_content_chars_max = 200)\n",
    "arxiv_tool = ArxivQueryRun(api_wrapper = arxiv_wrapper)"
   ]
  },
  {
   "cell_type": "code",
   "execution_count": 16,
   "id": "b41c9ee5-fdee-4d63-8f22-edbb7b3fb29b",
   "metadata": {},
   "outputs": [
    {
     "data": {
      "text/plain": [
       "'arxiv'"
      ]
     },
     "execution_count": 16,
     "metadata": {},
     "output_type": "execute_result"
    }
   ],
   "source": [
    "arxiv_tool.name"
   ]
  },
  {
   "cell_type": "code",
   "execution_count": 17,
   "id": "e49b5b47-b36b-4d38-a40a-a7a46d8d57c1",
   "metadata": {},
   "outputs": [],
   "source": [
    "# Combine all the tools(builtin: Wiki_tool and arxiv_tool, custom_tool: web_custom_tool)\n",
    "tools = [wiki_tool, arxiv_tool, web_custom_tool]"
   ]
  },
  {
   "cell_type": "code",
   "execution_count": 18,
   "id": "6ffa45ba-d26b-44b9-a610-ab550f0f1d34",
   "metadata": {},
   "outputs": [],
   "source": [
    "import os\n",
    "from dotenv import load_dotenv\n",
    "from langchain_groq import ChatGroq\n",
    "# Load 'Env-Variables'.\n",
    "load_dotenv()\n",
    "\n",
    "os.environ['GROQ_API_KEY'] = os.getenv('GROQ_API_KEY')\n",
    "\n",
    "# Initialize LLM-model.\n",
    "llm = ChatGroq(\n",
    "    groq_api_key = os.getenv('GROQ_API_KEY'),\n",
    "    model = \"llama-3.1-70b-versatile\",\n",
    "    temperature = 0,\n",
    ")"
   ]
  },
  {
   "cell_type": "code",
   "execution_count": 19,
   "id": "e7cac35e-0883-4f26-8f7a-6c18b08fecc4",
   "metadata": {},
   "outputs": [],
   "source": [
    "# Create Prompts - use builtin prompts.\n",
    "from langchain import hub\n",
    "prompt = hub.pull(\"hwchase17/openai-functions-agent\")"
   ]
  },
  {
   "cell_type": "code",
   "execution_count": 20,
   "id": "894fd772-7c61-4477-b585-0beb13bd6cf3",
   "metadata": {},
   "outputs": [
    {
     "data": {
      "text/plain": [
       "[SystemMessagePromptTemplate(prompt=PromptTemplate(input_variables=[], input_types={}, partial_variables={}, template='You are a helpful assistant'), additional_kwargs={}),\n",
       " MessagesPlaceholder(variable_name='chat_history', optional=True),\n",
       " HumanMessagePromptTemplate(prompt=PromptTemplate(input_variables=['input'], input_types={}, partial_variables={}, template='{input}'), additional_kwargs={}),\n",
       " MessagesPlaceholder(variable_name='agent_scratchpad')]"
      ]
     },
     "execution_count": 20,
     "metadata": {},
     "output_type": "execute_result"
    }
   ],
   "source": [
    "prompt.messages"
   ]
  },
  {
   "cell_type": "code",
   "execution_count": 28,
   "id": "3126d276-07ed-4799-99bf-dfa227b3546f",
   "metadata": {},
   "outputs": [],
   "source": [
    "# Agent: responsible to choose a tool to answer the query.\n",
    "from langchain.agents import create_openai_tools_agent\n",
    "agent = create_openai_tools_agent(llm, tools, prompt)"
   ]
  },
  {
   "cell_type": "code",
   "execution_count": 30,
   "id": "7db2b6c8-3b78-42a6-9598-78dbc5be0898",
   "metadata": {},
   "outputs": [],
   "source": [
    "# Agent Executer\n",
    "from langchain.agents import AgentExecutor\n",
    "agent_executor = AgentExecutor(agent = agent, tools = tools,verbose=True)"
   ]
  },
  {
   "cell_type": "code",
   "execution_count": null,
   "id": "e25577d0-ea6f-441a-b4ff-26a783e6247f",
   "metadata": {},
   "outputs": [
    {
     "name": "stdout",
     "output_type": "stream",
     "text": [
      "\n",
      "\n",
      "\u001b[1m> Entering new AgentExecutor chain...\u001b[0m\n",
      "\u001b[32;1m\u001b[1;3m\n",
      "Invoking: `langsmith_search` with `{'query': 'Langsmith information'}`\n",
      "\n",
      "\n",
      "\u001b[0m"
     ]
    }
   ],
   "source": [
    "agent_executor.invoke({\"input\":\"Tell me about Langsmith\"})"
   ]
  },
  {
   "cell_type": "code",
   "execution_count": null,
   "id": "7e9bee14-7a06-459d-ab7f-62a8f102d407",
   "metadata": {},
   "outputs": [],
   "source": []
  }
 ],
 "metadata": {
  "kernelspec": {
   "display_name": "langchaintuto",
   "language": "python",
   "name": "langchaintuto"
  },
  "language_info": {
   "codemirror_mode": {
    "name": "ipython",
    "version": 3
   },
   "file_extension": ".py",
   "mimetype": "text/x-python",
   "name": "python",
   "nbconvert_exporter": "python",
   "pygments_lexer": "ipython3",
   "version": "3.12.2"
  }
 },
 "nbformat": 4,
 "nbformat_minor": 5
}
